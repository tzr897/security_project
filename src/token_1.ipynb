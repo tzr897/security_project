{
 "cells": [
  {
   "cell_type": "markdown",
   "metadata": {},
   "source": [
    "This file shows the process of tokenization"
   ]
  },
  {
   "cell_type": "code",
   "execution_count": 6,
   "metadata": {},
   "outputs": [],
   "source": [
    "import os\n",
    "import numpy as np\n",
    "from sklearn.feature_extraction.text import CountVectorizer\n",
    "from sklearn.feature_extraction.text import TfidfTransformer\n",
    "enron_data_path = \"../dataset/enron1/\""
   ]
  },
  {
   "cell_type": "code",
   "execution_count": 7,
   "metadata": {},
   "outputs": [],
   "source": [
    "def preprocess_one_set(data_path):\n",
    "    res = []\n",
    "    for root, dirs, files in os.walk(data_path):\n",
    "        for file_name in files:\n",
    "            cur_file_path = os.path.join(root, file_name)\n",
    "            cur_txt = \"\"\n",
    "            with open(cur_file_path) as cur_f:\n",
    "                try:\n",
    "                    cur_lines = cur_f.readlines()\n",
    "                    for one_line in cur_lines:\n",
    "                        one_line = one_line.strip('\\n')\n",
    "                        one_line = one_line.strip('\\r')\n",
    "                        cur_txt += one_line\n",
    "                    res.append(cur_txt)\n",
    "                except UnicodeDecodeError:\n",
    "                    continue\n",
    "    return res\n",
    "\n",
    "spam_path = enron_data_path + \"spam/\"\n",
    "ham_path = enron_data_path + \"ham/\"\n",
    "spam_list = preprocess_one_set(spam_path)\n",
    "ham_list = preprocess_one_set(ham_path)\n"
   ]
  },
  {
   "cell_type": "code",
   "execution_count": 8,
   "metadata": {},
   "outputs": [
    {
     "name": "stdout",
     "output_type": "stream",
     "text": [
      "1500\n",
      "Subject: fwd : screw doctors . stocks available . vlagr @ . x _ a _ nax . v ~ a ~ lium . vlcodi * n . tscmiwliif a man hire a sailor , he shall pay him six gur of corn per year .we are your convenient , safe and private online source for fda approved prescriptions .adipex 30 pills - 37 . 5 mg tablets - $ 169 . 99tramadol 30 pills - 50 mg tablets - $ 99 . 9960 tablets of ativan 1 mg . $ 189 . 99levitra 5 pills - 20 mg tablets - - $ 129 . 99no embarassment - prescriptions are always confidential .buy online in the comfort of your home . . lifemeds . bizif you are an aol user , please use microsoft internet explorer when visiting the link . there is a bug on aol browser that prevents certain features of the website lifemeds . biz from displaying .since why to love , i can allege no cause .for thy neglect of truth in beauty dyed ?who hateth thee that i do call my friend ,which like a jewel ( hung in ghastly night )\n",
      "()\n",
      "3672\n",
      "Subject: deal 83389fyii added meter 987195 to the above deal for august 1999 to clean up a strangers gas issue for clem . no deal volume was put in , i just needed the point to show up in unify for volume managment to assign a track id .mike\n"
     ]
    }
   ],
   "source": [
    "print(len(spam_list))\n",
    "print(spam_list[1])\n",
    "print()\n",
    "print(len(ham_list))\n",
    "print(ham_list[1])"
   ]
  }
 ],
 "metadata": {
  "kernelspec": {
   "display_name": "Python 2",
   "language": "python",
   "name": "python2"
  },
  "language_info": {
   "codemirror_mode": {
    "name": "ipython",
    "version": 2
   },
   "file_extension": ".py",
   "mimetype": "text/x-python",
   "name": "python",
   "nbconvert_exporter": "python",
   "pygments_lexer": "ipython2",
   "version": "2.7.17"
  },
  "orig_nbformat": 4
 },
 "nbformat": 4,
 "nbformat_minor": 2
}
