{
 "cells": [
  {
   "cell_type": "markdown",
   "metadata": {},
   "source": [
    "This file shows the process of tokenization"
   ]
  },
  {
   "cell_type": "code",
   "execution_count": 1,
   "metadata": {},
   "outputs": [],
   "source": [
    "import os\n",
    "import numpy as np\n",
    "from sklearn.feature_extraction.text import CountVectorizer\n",
    "from sklearn.feature_extraction.text import TfidfTransformer\n",
    "enron_data_path = \"../dataset/enron\""
   ]
  },
  {
   "cell_type": "code",
   "execution_count": 9,
   "metadata": {},
   "outputs": [],
   "source": [
    "def preprocess_one_set(data_path):\n",
    "    res = []\n",
    "    for root, dirs, files in os.walk(data_path):\n",
    "        for file_name in files:\n",
    "            cur_file_path = os.path.join(root, file_name)\n",
    "            cur_txt = \"\"\n",
    "            with open(cur_file_path) as cur_f:\n",
    "                try:\n",
    "                    cur_lines = cur_f.readlines()\n",
    "                    for one_line in cur_lines:\n",
    "                        one_line = one_line.strip('\\n')\n",
    "                        one_line = one_line.strip('\\r')\n",
    "                        cur_txt += one_line\n",
    "                    res.append(cur_txt)\n",
    "                except UnicodeDecodeError:\n",
    "                    continue\n",
    "    return res\n",
    "\n",
    "spam_list = []\n",
    "ham_list = []\n",
    "for i in range(1, 7):\n",
    "    spam_path = enron_data_path + str(i) +  \"/spam/\"\n",
    "    ham_path = enron_data_path + str(i) + \"/ham/\"\n",
    "    cur_spam_list = preprocess_one_set(spam_path)\n",
    "    cur_ham_list = preprocess_one_set(ham_path)\n",
    "    spam_list += cur_spam_list\n",
    "    ham_list += cur_ham_list"
   ]
  },
  {
   "cell_type": "code",
   "execution_count": 10,
   "metadata": {},
   "outputs": [
    {
     "name": "stdout",
     "output_type": "stream",
     "text": [
      "17171\n",
      "Subject: fwd : screw doctors . stocks available . vlagr @ . x _ a _ nax . v ~ a ~ lium . vlcodi * n . tscmiwliif a man hire a sailor , he shall pay him six gur of corn per year .we are your convenient , safe and private online source for fda approved prescriptions .adipex 30 pills - 37 . 5 mg tablets - $ 169 . 99tramadol 30 pills - 50 mg tablets - $ 99 . 9960 tablets of ativan 1 mg . $ 189 . 99levitra 5 pills - 20 mg tablets - - $ 129 . 99no embarassment - prescriptions are always confidential .buy online in the comfort of your home . . lifemeds . bizif you are an aol user , please use microsoft internet explorer when visiting the link . there is a bug on aol browser that prevents certain features of the website lifemeds . biz from displaying .since why to love , i can allege no cause .for thy neglect of truth in beauty dyed ?who hateth thee that i do call my friend ,which like a jewel ( hung in ghastly night )\n",
      "()\n",
      "16545\n",
      "Subject: deal 83389fyii added meter 987195 to the above deal for august 1999 to clean up a strangers gas issue for clem . no deal volume was put in , i just needed the point to show up in unify for volume managment to assign a track id .mike\n"
     ]
    }
   ],
   "source": [
    "print(len(spam_list))\n",
    "print(spam_list[1])\n",
    "print()\n",
    "print(len(ham_list))\n",
    "print(ham_list[1])"
   ]
  },
  {
   "cell_type": "markdown",
   "metadata": {},
   "source": [
    "Bag of Words Model"
   ]
  },
  {
   "cell_type": "code",
   "execution_count": 11,
   "metadata": {},
   "outputs": [],
   "source": [
    "# cv = CountVectorizer(\n",
    "#     binary =False,\n",
    "#     decode_error = \"ignore\",\n",
    "#     strip_accents = \"ascii\",\n",
    "#     stop_words = \"english\",\n",
    "#     max_df = 1.0,\n",
    "#     min_df = 1\n",
    "# )\n",
    "emails_list = ham_list + spam_list\n",
    "# y = [0] * len(ham_list) + [1] *len(spam_list)\n",
    "# x = cv.fit_transform(emails_list)\n",
    "# x = x.toarray()\n",
    "# print(len(x))\n",
    "# print(x[0])\n",
    "# #tf = TfidfTransformer()\n",
    "# #x = tf.fit_transform(x)\n",
    "# #x = x.toarray()\n"
   ]
  },
  {
   "cell_type": "code",
   "execution_count": 12,
   "metadata": {},
   "outputs": [
    {
     "ename": "MemoryError",
     "evalue": "",
     "output_type": "error",
     "traceback": [
      "\u001b[0;31m\u001b[0m",
      "\u001b[0;31mMemoryError\u001b[0mTraceback (most recent call last)",
      "\u001b[0;32m<ipython-input-12-dbd18cd4df91>\u001b[0m in \u001b[0;36m<module>\u001b[0;34m()\u001b[0m\n\u001b[1;32m      2\u001b[0m \u001b[0;32mfrom\u001b[0m \u001b[0msklearn\u001b[0m\u001b[0;34m.\u001b[0m\u001b[0mfeature_extraction\u001b[0m\u001b[0;34m.\u001b[0m\u001b[0mtext\u001b[0m \u001b[0;32mimport\u001b[0m \u001b[0mTfidfVectorizer\u001b[0m\u001b[0;34m\u001b[0m\u001b[0m\n\u001b[1;32m      3\u001b[0m \u001b[0mcountfidf\u001b[0m \u001b[0;34m=\u001b[0m \u001b[0mTfidfVectorizer\u001b[0m\u001b[0;34m(\u001b[0m\u001b[0mdecode_error\u001b[0m \u001b[0;34m=\u001b[0m \u001b[0;34m\"ignore\"\u001b[0m\u001b[0;34m)\u001b[0m\u001b[0;34m\u001b[0m\u001b[0m\n\u001b[0;32m----> 4\u001b[0;31m \u001b[0mx\u001b[0m \u001b[0;34m=\u001b[0m \u001b[0mnp\u001b[0m\u001b[0;34m.\u001b[0m\u001b[0marray\u001b[0m\u001b[0;34m(\u001b[0m\u001b[0memails_list\u001b[0m\u001b[0;34m)\u001b[0m\u001b[0;34m\u001b[0m\u001b[0m\n\u001b[0m\u001b[1;32m      5\u001b[0m \u001b[0mcount_tfidf\u001b[0m \u001b[0;34m=\u001b[0m \u001b[0mcountfidf\u001b[0m\u001b[0;34m.\u001b[0m\u001b[0mfit_transform\u001b[0m\u001b[0;34m(\u001b[0m\u001b[0mx\u001b[0m\u001b[0;34m)\u001b[0m\u001b[0;34m.\u001b[0m\u001b[0mtoarray\u001b[0m\u001b[0;34m(\u001b[0m\u001b[0;34m)\u001b[0m\u001b[0;34m\u001b[0m\u001b[0m\n\u001b[1;32m      6\u001b[0m \u001b[0;32mprint\u001b[0m\u001b[0;34m(\u001b[0m\u001b[0mlen\u001b[0m\u001b[0;34m(\u001b[0m\u001b[0mcount_tfidf\u001b[0m\u001b[0;34m)\u001b[0m\u001b[0;34m)\u001b[0m\u001b[0;34m\u001b[0m\u001b[0m\n",
      "\u001b[0;31mMemoryError\u001b[0m: "
     ]
    },
    {
     "ename": "",
     "evalue": "",
     "output_type": "error",
     "traceback": [
      "\u001b[1;31mThe Kernel crashed while executing code in the the current cell or a previous cell. Please review the code in the cell(s) to identify a possible cause of the failure. Click <a href='https://aka.ms/vscodeJupyterKernelCrash'>here</a> for more info. View Jupyter <a href='command:jupyter.viewOutput'>log</a> for further details."
     ]
    }
   ],
   "source": [
    "\n",
    "from sklearn.feature_extraction.text import TfidfVectorizer\n",
    "countfidf = TfidfVectorizer(decode_error = \"ignore\")\n",
    "x = np.array(emails_list)\n",
    "count_tfidf = countfidf.fit_transform(x).toarray()\n",
    "print(len(count_tfidf))\n",
    "# for i in range(0, 100):\n",
    "#     for idx in count_tfidf[i]:\n",
    "#         print(idx)"
   ]
  },
  {
   "cell_type": "code",
   "execution_count": null,
   "metadata": {},
   "outputs": [],
   "source": []
  }
 ],
 "metadata": {
  "kernelspec": {
   "display_name": "Python 3",
   "language": "python",
   "name": "python3"
  },
  "language_info": {
   "codemirror_mode": {
    "name": "ipython",
    "version": 2
   },
   "file_extension": ".py",
   "mimetype": "text/x-python",
   "name": "python",
   "nbconvert_exporter": "python",
   "pygments_lexer": "ipython2",
   "version": "2.7.17"
  },
  "orig_nbformat": 4
 },
 "nbformat": 4,
 "nbformat_minor": 2
}
