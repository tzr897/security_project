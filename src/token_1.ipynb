{
 "cells": [
  {
   "cell_type": "markdown",
   "metadata": {},
   "source": [
    "This file shows the process of tokenization"
   ]
  },
  {
   "cell_type": "code",
   "execution_count": 1,
   "metadata": {},
   "outputs": [],
   "source": [
    "import os\n",
    "import numpy as np\n",
    "from sklearn.feature_extraction.text import CountVectorizer\n",
    "from sklearn.feature_extraction.text import TfidfTransformer\n",
    "enron_data_path = \"../dataset/enron1/\""
   ]
  },
  {
   "cell_type": "code",
   "execution_count": 2,
   "metadata": {},
   "outputs": [],
   "source": [
    "def preprocess_one_set(data_path):\n",
    "    res = []\n",
    "    for root, dirs, files in os.walk(data_path):\n",
    "        for file_name in files:\n",
    "            cur_file_path = os.path.join(root, file_name)\n",
    "            cur_txt = \"\"\n",
    "            with open(cur_file_path) as cur_f:\n",
    "                try:\n",
    "                    cur_lines = cur_f.readlines()\n",
    "                    for one_line in cur_lines:\n",
    "                        one_line = one_line.strip('\\n')\n",
    "                        one_line = one_line.strip('\\r')\n",
    "                        cur_txt += one_line\n",
    "                    res.append(cur_txt)\n",
    "                except UnicodeDecodeError:\n",
    "                    continue\n",
    "    return res\n",
    "\n",
    "spam_path = enron_data_path + \"spam/\"\n",
    "ham_path = enron_data_path + \"ham/\"\n",
    "spam_list = preprocess_one_set(spam_path)\n",
    "ham_list = preprocess_one_set(ham_path)\n"
   ]
  },
  {
   "cell_type": "code",
   "execution_count": 3,
   "metadata": {},
   "outputs": [
    {
     "name": "stdout",
     "output_type": "stream",
     "text": [
      "1500\n",
      "Subject: fwd : screw doctors . stocks available . vlagr @ . x _ a _ nax . v ~ a ~ lium . vlcodi * n . tscmiwliif a man hire a sailor , he shall pay him six gur of corn per year .we are your convenient , safe and private online source for fda approved prescriptions .adipex 30 pills - 37 . 5 mg tablets - $ 169 . 99tramadol 30 pills - 50 mg tablets - $ 99 . 9960 tablets of ativan 1 mg . $ 189 . 99levitra 5 pills - 20 mg tablets - - $ 129 . 99no embarassment - prescriptions are always confidential .buy online in the comfort of your home . . lifemeds . bizif you are an aol user , please use microsoft internet explorer when visiting the link . there is a bug on aol browser that prevents certain features of the website lifemeds . biz from displaying .since why to love , i can allege no cause .for thy neglect of truth in beauty dyed ?who hateth thee that i do call my friend ,which like a jewel ( hung in ghastly night )\n",
      "()\n",
      "3672\n",
      "Subject: deal 83389fyii added meter 987195 to the above deal for august 1999 to clean up a strangers gas issue for clem . no deal volume was put in , i just needed the point to show up in unify for volume managment to assign a track id .mike\n"
     ]
    }
   ],
   "source": [
    "print(len(spam_list))\n",
    "print(spam_list[1])\n",
    "print()\n",
    "print(len(ham_list))\n",
    "print(ham_list[1])"
   ]
  },
  {
   "cell_type": "markdown",
   "metadata": {},
   "source": [
    "Bag of Words Model"
   ]
  },
  {
   "cell_type": "code",
   "execution_count": 8,
   "metadata": {},
   "outputs": [
    {
     "name": "stdout",
     "output_type": "stream",
     "text": [
      "5172\n",
      "[0 0 0 ... 0 0 0]\n"
     ]
    }
   ],
   "source": [
    "cv = CountVectorizer(\n",
    "    binary =False,\n",
    "    decode_error = \"ignore\",\n",
    "    strip_accents = \"ascii\",\n",
    "    stop_words = \"english\",\n",
    "    max_df = 1.0,\n",
    "    min_df = 1\n",
    ")\n",
    "emails_list = ham_list + spam_list\n",
    "y = [0] * len(ham_list) + [1] *len(spam_list)\n",
    "x = cv.fit_transform(emails_list)\n",
    "x = x.toarray()\n",
    "print(len(x))\n",
    "print(x[0])\n",
    "tf = TfidfTransformer()\n",
    "#x = tf.fit_transform(x)\n",
    "#x = x.toarray()\n"
   ]
  },
  {
   "cell_type": "code",
   "execution_count": 9,
   "metadata": {},
   "outputs": [
    {
     "name": "stdout",
     "output_type": "stream",
     "text": [
      "['Subject: eol application id and passworddarren ,your id and password for eol prod stack manager is as follows :id : dfarmerpassword : dfarmerif you have any questions please feel free to contact me .thankstarax 34523'\n",
      " 'Subject: deal 83389fyii added meter 987195 to the above deal for august 1999 to clean up a strangers gas issue for clem . no deal volume was put in , i just needed the point to show up in unify for volume managment to assign a track id .mike'\n",
      " \"Subject: february wellhead production estimatebob ,please see the attached file estimating wellhead production for the month offebruary . please be advised that this is a preliminary estimate as to thisdate , we have received one nom for february . i will update you with anyrevisions as they occur .i ' ll be out of the office on tomorrow ; however , i will return to the officeon thursday .thanks ,vltx 3 - 6353\"\n",
      " ...\n",
      " 'Subject: funnymay aplomb be angola may prize some workloadon hop but pluto ! brandt on samsonor syndic ! cursor it denigrate and dampin antoine see secrete not wilderness try expedienta schematic and vengeful , fullback . out , babe , go here'\n",
      " \"Subject: analyst ' s pick ( 23805 )investor financial times reportspecializing in undervalued small cap stocks for immediate breakouterhc and exxon mobil exercise priority rights on highly sought after oilblocks in nigeria and sao tome ' s joint development zone ( jdz ) in thegulf of guinea .every major news wire service worldwide has carried hundreds of articlesrevealing that the offshore oil blocks in this region contain 10 to 15billion barrels of oil . the jdz line - up tipped to take over upcomingblocks includes exxon mobil , erhc , chevron texaco , amerada hess ,and anadarko .license approval for the region ' s exclusive economic zone ( eez ) is amultilateral deal securing blocks jointly involving exxon mobil , erhc ,and chevron texaco .erhc has jumped from a . 25 cent stock earlier in the year to a . 50 centstock that is headed for over $ 2 or a possible buyout from one of theirjdz multinational players .erhc has been at the negotiating tables with the super - major oilcompanies . it is impossible to measure the power that is carried where astock at this price level is a vital part of a key union of oil giants !the top - level executives of the jdz oil majors have been finalizing thepercentage awards with erhc for official announcement of thelandmark - licensing round in the first 2 weeks of june .the us government is pushing for increasing development of the area tominimize middle east dependence . the eyes of the world are watching withrecord prices at the pump and oil busting through $ 40 per barrel .the oil companies will always make their $ billions - investors can cashin by accumulating a substantial position just before earth - shatteringnews is released that will send shock waves through erhc .investor financial times report ( iftr ) is an independent newsletter withthe goal of giving investors the necessary knowledge to make rationaland profitable investment decisions . this publication does not providean analysis of the company ' s financial position and is not an offer tobuy or sell securities . investing in securities is speculative andcarries risk . it is recommended that any investment should be made afterconsulting with your investment advisor and after reviewing thefinancial statements of the company . iftr presents information in thisonline report believed to be reliable , but its accuracy cannot beassured . past performance does not insure similar future results . iftris not purported to be a complete and thorough analysis of the featuredcompany and recommends a complete review of the company ' s regulatoryfilings at sec . gov . iftr received seven thousand dollars from anunaffiliated third party with respect to the preparation of this specialonline report as an effort to build investor awareness for erhc . theinformation herein contains future - looking statements and informationwithin the meaning of section 27 a of the securities act of 1933 andsection 21 e of the securities exchange act of 1934 , including statementsregarding expected continual growth of the featured company .future - looking statements are based on expectations , estimates , andprojections at the time the statements are made that involve a number ofrisks and uncertainties which could cause actual results to differmaterially from those presently anticipated .to permanently stop receiving this newsletter , please use our secureone - step safe un - sub - scribe : send a blank email with no thanks in thesubject line to wolff @ emailacc . comelectronic dissemination provided by : e - broadcast group 6 eftute ave .kingston 10 jamaica wi58784 b 4022 ee 2350759 al 2073256 aebdb 301 c\"\n",
      " \"Subject: smallcap cribsheetinvestor alert - immediate release - investor alertbreakout forecast tuesday july 19 , 2005! ! ! ready to run ! ! ! [ running now ! ! ! ] ! ! ! big winner ! ! !china world trade corp . cwtd china world trade corp .current price : $ 2 . 31projection 5 to 7 days : $ 4 . 50 - $ 5 . 00projection 12 to 18 days : $ 6 . 00 - $ 8 . 00see company president john hui interview with cnn asiaalso look for new cnn interview re : tremendous 12 month company growthcompleted ! ! ! ! forward plan to dominate china ' s travel industry . ( a chineseexpedia . com )china world trade outbid ctrp on acquisition of new generationsouthern china ' s largest travel company .chairman tsang , formerly of gold lion holdings has taken the reins of cwtdand continuing his record for success . cwtd is here to stay . read the newschina world trade corporation establishes international business centerto further enhance business services divisionmondayguangzhou , china , july / xinhua - prnewswire - firstcall / - - china world tradecorporation ( otc bulletin board : cwtd - news ) announced today that theinternational business center ( ibc ) has commenced operations on july 1 whichwill support the international communication needed between the company ' scorporate clients and members . additionally , ibc will assist in servingchina world trade corporation ' s premier club members with business traveland other various corporate services . ibc aims to build up a strong platformand play an important role in integrating the business resources of thecompany ' s ceo clubs and world trade center clubs and to utilize newgeneration ' s extensive travel network and operating system . ibc will alsohelp china world trade corporation enhance services available to thecompany ' s clients with more comprehensive products such as the arrangementof international business tours , destination intelligence , immigration , andoverseas investment consulting services .ibc is a bridge linking china world trade and ceo clubs to penetrate thebusiness services market in china , said mr . william tsang , president andchairman of china world trade corporation . we are confident that we willbecome one of the pioneers in the business services industry in china . weexpect ibc to generate a new stream of revenue , from the amalgamation of ourtailor - made services in areas such as business consulting , immigration andinvestments for our premium clients .stoc : k is ready to rock ! ! ! !company has already facilitated the money it need ' s to continue it ' s rapidgrow ! ! ! !disclaimer :information within this email contains forwardlooking statements withinthe meaning of section 27 aof the securities act of 1933 and section 21 b ofthe securities exchange act of 1934 . any statements that express or involvediscussions with respect to predictions , expectations , beliefs ,plans , projections , objectives , goals , assumptions or future events orperformance are not statements of historical fact and may be forwardlooking statements . forward looking statements are based onexpectations , estimates and projections at the time the statements are madethat involve a number of risks and uncertainties which could cause actualresults or events to differ materially from those presently anticipated .forward looking statements in this action may be identified through the useof words such as projects , foresee , expects , will , anticipates ,estimates , believes , understands or that by statements indicatingcertain actions may , could , or might occur . risk factors includegeneral economic and business conditions , the ability to acquire and developspecific projects , the ability to fund operations and changes in consumerand business consumption habits and other factors overwhich the company haslittle or no control . the publisher of this newsletter does not representthat the information contained in this message states all material facts ordoes not omit a material fact necessary to make the statements therein notmisleading . all information provided within this email pertaining toinvesting , stoc : ks , securities must be understood as information provided andnot investment advice . the publisher of this newsletter advises all readersand subscribers to seek advice from a registered professional securitiesrepresentative before deciding to trade in stoc : ks featured within thisemail . none of the material within this report shall be construed as anykind of investment advice or solicitation . many of these companies are onthe verge of bankruptcy . you can lose all your money by investing in thisstoc : k . we urge you to read the company ' s sec filings now , before you invest .the publisher of this newsletter is not a registered invstment advisor .subscribers should not view information herein as legal , tax , accounting orinvestment advice . in compliance with the securitiesact of 1933 , section17 ( b ) , the publisher of this newsletter is contracted to receive six hundredthousand free trading shares from a third party , not an officer , director oraffiliate shareholder for the circulation of this report . be aware of aninherent conflict of interest resulting from such compensation due to thefact that this is a paid advertisement and is not without bias . the partythat paid us has a position in the stoc : k they will sell at anytime withoutnotice . this could have a negative impact on the price of the stoc : k , causingyou to lose money . all factual information in this report was gathered frompublic sources , including but not limited to sec filings , company websitesand company press releases . the publisher of this newsletter believes thisinformation to be reliable but can make no guarantee as to its accuracy orcompleteness . use of the material within this email constitutes youracceptance of these terms .\"]\n"
     ]
    }
   ],
   "source": [
    "\n",
    "from sklearn.feature_extraction.text import TfidfVectorizer\n",
    "countfidf = TfidfVectorizer(decode_error = \"ignore\")\n",
    "x = np.array(emails_list)\n",
    "count_tfidf = countfidf.fit_transform(x)\n",
    "print(len(count_tfidf))\n",
    "print(count_tfidf)"
   ]
  },
  {
   "cell_type": "code",
   "execution_count": null,
   "metadata": {},
   "outputs": [],
   "source": []
  }
 ],
 "metadata": {
  "kernelspec": {
   "display_name": "Python 3",
   "language": "python",
   "name": "python3"
  },
  "language_info": {
   "codemirror_mode": {
    "name": "ipython",
    "version": 2
   },
   "file_extension": ".py",
   "mimetype": "text/x-python",
   "name": "python",
   "nbconvert_exporter": "python",
   "pygments_lexer": "ipython2",
   "version": "2.7.17"
  },
  "orig_nbformat": 4
 },
 "nbformat": 4,
 "nbformat_minor": 2
}
