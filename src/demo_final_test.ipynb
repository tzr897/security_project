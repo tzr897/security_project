{
  "cells": [
    {
      "cell_type": "markdown",
      "metadata": {
        "id": "iV237FNgOr55"
      },
      "source": [
        "This file is for final report."
      ]
    },
    {
      "cell_type": "code",
      "source": [],
      "metadata": {
        "id": "BdoXJH3h4miD"
      },
      "execution_count": null,
      "outputs": []
    },
    {
      "cell_type": "code",
      "execution_count": 1,
      "metadata": {
        "id": "p48J7sxrOr57"
      },
      "outputs": [],
      "source": [
        "import os\n",
        "import numpy as np\n",
        "from sklearn.feature_extraction.text import CountVectorizer\n",
        "from sklearn.feature_extraction.text import TfidfTransformer\n",
        "from sklearn.feature_extraction.text import TfidfVectorizer\n",
        "import tensorflow\n",
        "#from tflearn.data_utils import VocabularyProcessor\n",
        "from tensorflow.keras.preprocessing.text import Tokenizer\n",
        "import json\n",
        "from sklearn.model_selection import train_test_split\n",
        "from sklearn import metrics\n",
        "import time\n",
        "\n",
        "enron_data_path = \"./enron/enron\""
      ]
    },
    {
      "cell_type": "code",
      "execution_count": 2,
      "metadata": {
        "id": "i54LZa3GOr58"
      },
      "outputs": [],
      "source": [
        "def preprocess_one_set(data_path):\n",
        "    res = []\n",
        "    for root, dirs, files in os.walk(data_path):\n",
        "        for file_name in files:\n",
        "            cur_file_path = os.path.join(root, file_name)\n",
        "            cur_txt = \"\"\n",
        "            with open(cur_file_path) as cur_f:\n",
        "                try:\n",
        "                    cur_lines = cur_f.readlines()\n",
        "                    for one_line in cur_lines:\n",
        "                        one_line = one_line.strip('\\n')\n",
        "                        one_line = one_line.strip('\\r')\n",
        "                        cur_txt += one_line\n",
        "                    res.append(cur_txt)\n",
        "                except UnicodeDecodeError:\n",
        "                    continue\n",
        "    return res\n",
        "\n",
        "def process_all_data():\n",
        "    spam_list = []\n",
        "    ham_list = []\n",
        "    NUM_SET_START = 1\n",
        "    NUM_SET_END = 2\n",
        "    for i in range(NUM_SET_START, NUM_SET_END + 1):\n",
        "        spam_path = enron_data_path + str(i) +  \"/spam/\"\n",
        "        ham_path = enron_data_path + str(i) + \"/ham/\"\n",
        "        cur_spam_list = preprocess_one_set(spam_path)\n",
        "        cur_ham_list = preprocess_one_set(ham_path)\n",
        "        spam_list += cur_spam_list\n",
        "        ham_list += cur_ham_list\n",
        "    return spam_list, ham_list"
      ]
    },
    {
      "cell_type": "code",
      "execution_count": 3,
      "metadata": {
        "colab": {
          "base_uri": "https://localhost:8080/"
        },
        "id": "pgcwGrFnOr59",
        "outputId": "0b9da9a7-c340-4d03-ddfc-55fe10d52e33"
      },
      "outputs": [
        {
          "output_type": "stream",
          "name": "stdout",
          "text": [
            "len of spam_list:  2364\n",
            "len of ham_list:  6558\n"
          ]
        }
      ],
      "source": [
        "spam_list, ham_list = process_all_data()\n",
        "emails_list = spam_list + ham_list\n",
        "len_spam = len(spam_list)\n",
        "len_ham = len(ham_list)\n",
        "print(\"len of spam_list: \", len_spam)\n",
        "print(\"len of ham_list: \", len_ham)\n",
        "y = [1] * len_spam + [0] * len_ham"
      ]
    },
    {
      "cell_type": "code",
      "execution_count": 4,
      "metadata": {
        "id": "H8DOloooOr5-"
      },
      "outputs": [],
      "source": [
        "def feature_extraction_bagofwords(emails_list, num_features):\n",
        "    # currently do not consider max_features\n",
        "    tfidfv = TfidfVectorizer(\n",
        "        decode_error = \"ignore\",\n",
        "        analyzer = \"word\",\n",
        "        stop_words = \"english\",\n",
        "        smooth_idf = False,\n",
        "        max_features = num_features,# at most 2010 features for two datasets\n",
        "    )\n",
        "    x = np.array(emails_list)\n",
        "    x = tfidfv.fit_transform(x)\n",
        "    x = x.toarray()\n",
        "    # vocab_path = \"../output/vocabulary_bagofwords.txt\"\n",
        "    # print(\"output the vocabulary to \" + vocab_path + \" ......\\n\")\n",
        "    # with open(vocab_path, 'w') as f:\n",
        "    #     f.write(json.dumps(tfidfv.vocabulary_))\n",
        "    print(\"len of x: \", len(x))\n",
        "    print(\"#features: \",len(x[0]))\n",
        "    return x\n",
        "\n",
        "\n"
      ]
    },
    {
      "cell_type": "markdown",
      "metadata": {
        "id": "NIAi3yw-Or5-"
      },
      "source": [
        "Support Vector Machines Algorithm"
      ]
    },
    {
      "cell_type": "code",
      "execution_count": 5,
      "metadata": {
        "id": "H5Yxq8ywOr5_"
      },
      "outputs": [],
      "source": [
        "from sklearn import svm\n",
        "\n",
        "def detection_svm(X_train, y_train, X_test, y_test):\n",
        "    print(\"---Support Vector Machines Algorithm---\")\n",
        "    start_time = time.time()\n",
        "    svm_c = svm.SVC()\n",
        "    svm_c.fit(X_train, y_train)\n",
        "    y_pred = svm_c.predict(X_test)\n",
        "    end_time = time.time()\n",
        "\n",
        "    precision = metrics.precision_score(y_test, y_pred)\n",
        "    recall = metrics.recall_score(y_test, y_pred)\n",
        "    f1 = metrics.f1_score(y_test, y_pred)\n",
        "    accuracy = metrics.accuracy_score(y_test, y_pred)\n",
        "    t = end_time - start_time\n",
        "    res = [t, precision, recall, f1, accuracy]\n",
        "    return res"
      ]
    },
    {
      "cell_type": "markdown",
      "metadata": {
        "id": "c6pFaIpGOr5_"
      },
      "source": [
        "K-nearest Neighbor Algorithm (KNN)"
      ]
    },
    {
      "cell_type": "code",
      "execution_count": 6,
      "metadata": {
        "id": "7soalUEyOr5_"
      },
      "outputs": [],
      "source": [
        "from sklearn.neighbors import KNeighborsClassifier\n",
        "\n",
        "def detection_knn(X_train, y_train, X_test, y_test):\n",
        "    print(\"---K-nearest Neighbor Algorithm (KNN)---\")\n",
        "    start_time = time.time()\n",
        "    knnc = KNeighborsClassifier()\n",
        "    knnc.fit(X_train, y_train)\n",
        "    y_pred = knnc.predict(X_test)\n",
        "    end_time = time.time()\n",
        "\n",
        "    precision = metrics.precision_score(y_test, y_pred)\n",
        "    recall = metrics.recall_score(y_test, y_pred)\n",
        "    f1 = metrics.f1_score(y_test, y_pred)\n",
        "    accuracy = metrics.accuracy_score(y_test, y_pred)\n",
        "    t = end_time - start_time\n",
        "    res = [t, precision, recall, f1, accuracy]\n",
        "    return res"
      ]
    },
    {
      "cell_type": "markdown",
      "metadata": {
        "id": "TFy8VP5DOr6A"
      },
      "source": [
        "Gaussian Naive Bayes"
      ]
    },
    {
      "cell_type": "code",
      "execution_count": 7,
      "metadata": {
        "id": "j8GVQ6NJOr6A"
      },
      "outputs": [],
      "source": [
        "from sklearn.naive_bayes import GaussianNB\n",
        "\n",
        "def detection_gnb(X_train, y_train, X_test, y_test):\n",
        "    print(\"---Gaussian Naive Bayes---\")\n",
        "    start_time = time.time()\n",
        "    gnb = GaussianNB()\n",
        "    gnb.fit(X_train, y_train)\n",
        "    y_pred = gnb.predict(X_test)\n",
        "    end_time = time.time()\n",
        "\n",
        "    precision = metrics.precision_score(y_test, y_pred)\n",
        "    recall = metrics.recall_score(y_test, y_pred)\n",
        "    f1 = metrics.f1_score(y_test, y_pred)\n",
        "    accuracy = metrics.accuracy_score(y_test, y_pred)\n",
        "    t = end_time - start_time\n",
        "    res = [t, precision, recall, f1, accuracy]\n",
        "    return res"
      ]
    },
    {
      "cell_type": "markdown",
      "metadata": {
        "id": "q194sn6GOr6A"
      },
      "source": [
        "Random Forest"
      ]
    },
    {
      "cell_type": "code",
      "execution_count": 8,
      "metadata": {
        "id": "6iOJdetVOr6A"
      },
      "outputs": [],
      "source": [
        "from sklearn.ensemble import RandomForestClassifier\n",
        "\n",
        "def detection_rf(X_train, y_train, X_test, y_test):\n",
        "    print(\"---Random Forest---\")\n",
        "    start_time = time.time()\n",
        "    rfc = RandomForestClassifier()\n",
        "    rfc.fit(X_train, y_train)\n",
        "    y_pred = rfc.predict(X_test)\n",
        "    end_time = time.time()\n",
        "\n",
        "    precision = metrics.precision_score(y_test, y_pred)\n",
        "    recall = metrics.recall_score(y_test, y_pred)\n",
        "    f1 = metrics.f1_score(y_test, y_pred)\n",
        "    accuracy = metrics.accuracy_score(y_test, y_pred)\n",
        "    t = end_time - start_time\n",
        "    res = [t, precision, recall, f1, accuracy]\n",
        "    return res"
      ]
    },
    {
      "cell_type": "markdown",
      "metadata": {
        "id": "_X6_314COr6B"
      },
      "source": [
        "Training and Testing"
      ]
    },
    {
      "cell_type": "markdown",
      "metadata": {
        "id": "p-OBH3OFOr6B"
      },
      "source": [
        "Bag of Words"
      ]
    },
    {
      "cell_type": "code",
      "execution_count": null,
      "metadata": {
        "colab": {
          "base_uri": "https://localhost:8080/"
        },
        "id": "U5Q4KsWQOr6B",
        "outputId": "308b792a-2aaa-4818-ac53-c6bd7dcc18e8"
      },
      "outputs": [
        {
          "output_type": "stream",
          "name": "stdout",
          "text": [
            "len of x:  8922\n",
            "#features:  500\n",
            "len of x:  8922\n",
            "#features:  1000\n",
            "len of x:  8922\n",
            "#features:  1500\n",
            "len of x:  8922\n",
            "#features:  2000\n",
            "len of x:  8922\n",
            "#features:  2500\n",
            "len of x:  8922\n",
            "#features:  3000\n",
            "len of x:  8922\n",
            "#features:  3500\n",
            "len of x:  8922\n",
            "#features:  4000\n",
            "len of x:  8922\n",
            "#features:  4500\n",
            "len of x:  8922\n",
            "#features:  5000\n",
            "len of x:  8922\n",
            "#features:  5500\n",
            "len of x:  8922\n",
            "#features:  6000\n",
            "len of x:  8922\n",
            "#features:  6500\n",
            "len of x:  8922\n",
            "#features:  7000\n",
            "len of x:  8922\n",
            "#features:  7500\n",
            "len of x:  8922\n",
            "#features:  8000\n",
            "len of x:  8922\n",
            "#features:  8500\n",
            "len of x:  8922\n",
            "#features:  9000\n",
            "len of x:  8922\n",
            "#features:  9500\n",
            "len of x:  8922\n",
            "#features:  10000\n",
            "---Support Vector Machines Algorithm---\n",
            "---K-nearest Neighbor Algorithm (KNN)---\n",
            "---Gaussian Naive Bayes---\n",
            "---Random Forest---\n",
            "---Support Vector Machines Algorithm---\n",
            "---K-nearest Neighbor Algorithm (KNN)---\n",
            "---Gaussian Naive Bayes---\n",
            "---Random Forest---\n",
            "---Support Vector Machines Algorithm---\n",
            "---K-nearest Neighbor Algorithm (KNN)---\n",
            "---Gaussian Naive Bayes---\n",
            "---Random Forest---\n",
            "---Support Vector Machines Algorithm---\n",
            "---K-nearest Neighbor Algorithm (KNN)---\n",
            "---Gaussian Naive Bayes---\n",
            "---Random Forest---\n",
            "---Support Vector Machines Algorithm---\n",
            "---K-nearest Neighbor Algorithm (KNN)---\n",
            "---Gaussian Naive Bayes---\n",
            "---Random Forest---\n",
            "---Support Vector Machines Algorithm---\n",
            "---K-nearest Neighbor Algorithm (KNN)---\n",
            "---Gaussian Naive Bayes---\n",
            "---Random Forest---\n",
            "---Support Vector Machines Algorithm---\n",
            "---K-nearest Neighbor Algorithm (KNN)---\n",
            "---Gaussian Naive Bayes---\n",
            "---Random Forest---\n",
            "---Support Vector Machines Algorithm---\n",
            "---K-nearest Neighbor Algorithm (KNN)---\n",
            "---Gaussian Naive Bayes---\n",
            "---Random Forest---\n",
            "---Support Vector Machines Algorithm---\n",
            "---K-nearest Neighbor Algorithm (KNN)---\n",
            "---Gaussian Naive Bayes---\n",
            "---Random Forest---\n",
            "---Support Vector Machines Algorithm---\n",
            "---K-nearest Neighbor Algorithm (KNN)---\n",
            "---Gaussian Naive Bayes---\n",
            "---Random Forest---\n",
            "---Support Vector Machines Algorithm---\n",
            "---K-nearest Neighbor Algorithm (KNN)---\n",
            "---Gaussian Naive Bayes---\n",
            "---Random Forest---\n",
            "---Support Vector Machines Algorithm---\n",
            "---K-nearest Neighbor Algorithm (KNN)---\n",
            "---Gaussian Naive Bayes---\n",
            "---Random Forest---\n",
            "---Support Vector Machines Algorithm---\n",
            "---K-nearest Neighbor Algorithm (KNN)---\n",
            "---Gaussian Naive Bayes---\n",
            "---Random Forest---\n",
            "---Support Vector Machines Algorithm---\n",
            "---K-nearest Neighbor Algorithm (KNN)---\n",
            "---Gaussian Naive Bayes---\n",
            "---Random Forest---\n",
            "---Support Vector Machines Algorithm---\n",
            "---K-nearest Neighbor Algorithm (KNN)---\n",
            "---Gaussian Naive Bayes---\n",
            "---Random Forest---\n",
            "---Support Vector Machines Algorithm---\n",
            "---K-nearest Neighbor Algorithm (KNN)---\n",
            "---Gaussian Naive Bayes---\n",
            "---Random Forest---\n",
            "---Support Vector Machines Algorithm---\n",
            "---K-nearest Neighbor Algorithm (KNN)---\n",
            "---Gaussian Naive Bayes---\n",
            "---Random Forest---\n",
            "---Support Vector Machines Algorithm---\n",
            "---K-nearest Neighbor Algorithm (KNN)---\n",
            "---Gaussian Naive Bayes---\n",
            "---Random Forest---\n",
            "---Support Vector Machines Algorithm---\n",
            "---K-nearest Neighbor Algorithm (KNN)---\n",
            "---Gaussian Naive Bayes---\n",
            "---Random Forest---\n"
          ]
        }
      ],
      "source": [
        "NUM_FEATURE_ARR = [500 * i for i in range(1, 21)]\n",
        "TEST_SIZE = 0.5\n",
        "\n",
        "def bagofwords_split():\n",
        "    X_train_bagofwords_arr = []\n",
        "    X_test_bagofwords_arr = []\n",
        "    y_train_bagofwords_arr = []\n",
        "    y_test_bagofwords_arr = []\n",
        "\n",
        "    for num_feature in NUM_FEATURE_ARR:\n",
        "        x = feature_extraction_bagofwords(emails_list, num_feature)\n",
        "        X_train, X_test, y_train, y_test = train_test_split(x, y, test_size=TEST_SIZE, random_state=0)\n",
        "        X_train_bagofwords_arr.append(X_train)\n",
        "        X_test_bagofwords_arr.append(X_test)\n",
        "        y_train_bagofwords_arr.append(y_train)\n",
        "        y_test_bagofwords_arr.append(y_test)\n",
        "    return X_train_bagofwords_arr, X_test_bagofwords_arr, y_train_bagofwords_arr, y_test_bagofwords_arr\n",
        "\n",
        "X_train_bagofwords_arr, X_test_bagofwords_arr, y_train_bagofwords_arr, y_test_bagofwords_arr = bagofwords_split()\n",
        "\n",
        "def onetest():\n",
        "    res = dict()\n",
        "    for i in range(0, len(NUM_FEATURE_ARR)):\n",
        "        res_svm = detection_svm(X_train_bagofwords_arr[i], y_train_bagofwords_arr[i], X_test_bagofwords_arr[i], y_test_bagofwords_arr[i])\n",
        "        res_knn = detection_knn(X_train_bagofwords_arr[i], y_train_bagofwords_arr[i], X_test_bagofwords_arr[i], y_test_bagofwords_arr[i])\n",
        "        res_gnb = detection_gnb(X_train_bagofwords_arr[i], y_train_bagofwords_arr[i], X_test_bagofwords_arr[i], y_test_bagofwords_arr[i])\n",
        "        #res_kmeans = detection_kmeans(X_train_bagofwords_arr[i], y_train_bagofwords_arr[i], X_test_bagofwords_arr[i], y_test_bagofwords_arr[i], 2)\n",
        "        res_rf = detection_rf(X_train_bagofwords_arr[i], y_train_bagofwords_arr[i], X_test_bagofwords_arr[i], y_test_bagofwords_arr[i])\n",
        "        #temp = [res_svm, res_knn, res_gnb, res_kmeans, res_rf]\n",
        "        temp = [res_svm, res_knn, res_gnb, res_rf]\n",
        "        res[NUM_FEATURE_ARR[i]] = temp\n",
        "    return res\n",
        "\n",
        "res = onetest()"
      ]
    },
    {
      "cell_type": "code",
      "execution_count": null,
      "metadata": {
        "id": "ZV_TQ2moOr6B"
      },
      "outputs": [],
      "source": [
        "import matplotlib.pyplot as plt\n",
        "#[res_svm, res_knn, res_gnb, res_rf]\n",
        "#[t, precision, recall, f1, accuracy]\n",
        "def f_plot(idx):\n",
        "    fig, ax = plt.subplots()\n",
        "    plt_x_label = NUM_FEATURE_ARR\n",
        "    plt_y_svm = [res[i][0][idx] for i in NUM_FEATURE_ARR]\n",
        "    ax.plot(plt_x_label, plt_y_svm, label = \"SVM\")\n",
        "\n",
        "    plt_y_knn = [res[i][1][idx] for i in NUM_FEATURE_ARR]\n",
        "    ax.plot(plt_x_label, plt_y_knn, label = \"KNN\")\n",
        "\n",
        "    plt_y_gnb = [res[i][2][idx] for i in NUM_FEATURE_ARR]\n",
        "    ax.plot(plt_x_label, plt_y_gnb, label = \"GNB\")\n",
        "\n",
        "    # plt_y_kmeans = [res[i][3][idx] for i in NUM_FEATURE_ARR]\n",
        "    # ax.plot(plt_x_label, plt_y_kmeans, label = \"K-means\")\n",
        "\n",
        "    plt_y_rf = [res[i][3][idx] for i in NUM_FEATURE_ARR]\n",
        "    ax.plot(plt_x_label, plt_y_rf, label = \"Random Forest\")\n",
        "\n",
        "    cur_title = \"\"\n",
        "    if idx == 0:\n",
        "        cur_title = \"Time\"\n",
        "    elif idx == 1:\n",
        "        cur_title = \"Precision\"\n",
        "    elif idx == 2:\n",
        "        cur_title = \"Recall\"\n",
        "    elif idx == 3:\n",
        "        cur_title = \"F1\"\n",
        "    elif idx == 4:\n",
        "        cur_title = \"Accuracy\"\n",
        "\n",
        "    ax.set_xlabel(\"Number of Features\")\n",
        "    ax.set_ylabel(cur_title)\n",
        "    ax.set_title(cur_title + \" and Number of Features\")\n",
        "    ax.legend()\n",
        "\n",
        "    plt.show()\n"
      ]
    },
    {
      "cell_type": "code",
      "execution_count": null,
      "metadata": {
        "id": "Rop5oOFPOr6C"
      },
      "outputs": [],
      "source": [
        "for i in range(5):\n",
        "    f_plot(i)"
      ]
    },
    {
      "cell_type": "markdown",
      "metadata": {
        "id": "aZbZ1m7HOr6C"
      },
      "source": [
        "Test for K-means"
      ]
    },
    {
      "cell_type": "code",
      "execution_count": null,
      "metadata": {
        "id": "emAvPA_lOr6C"
      },
      "outputs": [],
      "source": [
        "from sklearn.cluster import KMeans\n",
        "from sklearn.metrics import silhouette_score\n",
        "\n",
        "def detection_kmeans(X_train, y_train, X_test, y_test, num_clusters):\n",
        "    print(\"---K-means Clustering---\")\n",
        "    start_time = time.time()\n",
        "\n",
        "    kmc = KMeans(n_clusters = num_clusters)\n",
        "    kmc.fit(X_train)\n",
        "    labels = kmc.labels_\n",
        "    sh = silhouette_score(X_train, labels)\n",
        "\n",
        "    end_time = time.time()\n",
        "\n",
        "    t = end_time - start_time\n",
        "    res = [t, sh]\n",
        "    return res\n",
        "\n",
        "def plt_kmeans():\n",
        "    t_arr = []\n",
        "    sh_arr = []\n",
        "    for i in range(len(X_train_bagofwords_arr)):\n",
        "        cur_res = detection_kmeans(X_train_bagofwords_arr[i], y_train_bagofwords_arr[i],\\\n",
        "                        X_test_bagofwords_arr[i], y_test_bagofwords_arr[i], 2)\n",
        "        t_arr.append(cur_res[0])\n",
        "        sh_arr.append(cur_res[1])\n",
        "\n",
        "    fig1, ax1 = plt.subplots()\n",
        "    plt_x_label = NUM_FEATURE_ARR\n",
        "    ax1.plot(plt_x_label, t_arr)\n",
        "    ax1.set_xlabel(\"Number of Features\")\n",
        "    ax1.set_ylabel(\"Time\")\n",
        "    ax1.set_title(\"Time and Number of Features\")\n",
        "    plt.show()\n",
        "\n",
        "    fig2, ax2 = plt.subplots()\n",
        "    plt_x_label = NUM_FEATURE_ARR\n",
        "    ax2.plot(plt_x_label, sh_arr)\n",
        "    ax2.set_xlabel(\"Number of Features\")\n",
        "    ax2.set_ylabel(\"Silhouette Coefficient\")\n",
        "    ax2.set_title(\"Silhouette Coefficient and Number of Features\")\n",
        "    plt.show()\n",
        "    \n",
        "plt_kmeans()"
      ]
    },
    {
      "cell_type": "code",
      "source": [
        "def feature_extraction_vo(emails_list):\n",
        "    max_length = 500\n",
        "    vp = Tokenizer(num_words = max_length)\n",
        "    vp.fit_on_texts(emails_list)\n",
        "    x = vp.texts_to_matrix(emails_list)\n",
        "    print(type(x))\n",
        "    # for line in x:\n",
        "    #   #print(type(line))\n",
        "    #   #if len(line) < max_length:\n",
        "    #     #line.extend([0] * (max_length - len(line)))\n",
        "    #   print(len(line))\n",
        "    vocab_path = \"../output/vocabulary_tf.txt\"\n",
        "    #x = np.array(x)\n",
        "    # with open(vocab_path, 'w') as f:\n",
        "    #     f.write(json.dumps(vp.vocabulary_._mapping))\n",
        "    print(\"len of x: \", len(x))\n",
        "    return x"
      ],
      "metadata": {
        "id": "TsUfK8PUgszF"
      },
      "execution_count": null,
      "outputs": []
    },
    {
      "cell_type": "markdown",
      "metadata": {
        "id": "SwhE3acfOr6C"
      },
      "source": [
        "VO"
      ]
    },
    {
      "cell_type": "code",
      "execution_count": null,
      "metadata": {
        "id": "l6jklY1hOr6C"
      },
      "outputs": [],
      "source": [
        "TEST_SIZE = 0.5\n",
        "\n",
        "x = feature_extraction_vo(emails_list)\n",
        "X_train, X_test, y_train, y_test = train_test_split(x, y, test_size=TEST_SIZE, random_state=0)"
      ]
    },
    {
      "cell_type": "code",
      "execution_count": null,
      "metadata": {
        "id": "5KeoKVJ3Or6D"
      },
      "outputs": [],
      "source": [
        "res_svm = detection_svm(X_train, y_train, X_test, y_test)\n",
        "res_knn = detection_knn(X_train, y_train, X_test, y_test)\n",
        "res_gnb = detection_gnb(X_train, y_train, X_test, y_test)\n",
        "res_rf = detection_rf(X_train, y_train, X_test, y_test)"
      ]
    },
    {
      "cell_type": "code",
      "execution_count": null,
      "metadata": {
        "id": "n_OPRtetOr6D"
      },
      "outputs": [],
      "source": [
        "vo_res = [res_svm, res_knn, res_gnb, res_rf]\n",
        "\n",
        "def plt_vo(idx):\n",
        "    cur = [vo_res[i][idx] for i in range(4)]\n",
        "    plt.barh(range(4), cur)\n",
        "    plt.yticks(range(4), [\"SVM\", \"KNN\", \"GNB\", \"Random Forest\"])\n",
        "    if idx == 0: \n",
        "        plt.xlim(0, 8)\n",
        "    else:\n",
        "        plt.xlim(0, 1)\n",
        "    plt.xlabel(\"Score\")\n",
        "    cur_title = \"\"\n",
        "    if idx == 0:\n",
        "        cur_title = \"Time\"\n",
        "    elif idx == 1:\n",
        "        cur_title = \"Precision\"\n",
        "    elif idx == 2:\n",
        "        cur_title = \"Recall\"\n",
        "    elif idx == 3:\n",
        "        cur_title = \"F1\"\n",
        "    elif idx == 4:\n",
        "        cur_title = \"Accuracy\"\n",
        "    plt.title(cur_title)\n",
        "    plt.show()\n",
        "\n",
        "for i in range(5):\n",
        "    plt_vo(i)"
      ]
    },
    {
      "cell_type": "code",
      "execution_count": null,
      "metadata": {
        "id": "zoWAdzG2Or6D"
      },
      "outputs": [],
      "source": [
        "res_kmeans = detection_kmeans(X_train, y_train, X_test, y_test, 2)\n",
        "print(\"vo_kmeans_time: \", res_kmeans[0])\n",
        "print(\"vo_kmeans_silhouette_coefficient: \", res_kmeans[1])"
      ]
    },
    {
      "cell_type": "markdown",
      "source": [
        "Improve on Recall"
      ],
      "metadata": {
        "id": "rvxwy42qeFjY"
      }
    },
    {
      "cell_type": "markdown",
      "source": [
        "1. Use better ML models, like SVM, Random Forest.\n",
        "2. Use bag of words"
      ],
      "metadata": {
        "id": "m7NwxHg6sJaT"
      }
    },
    {
      "cell_type": "markdown",
      "source": [
        "3. Test size"
      ],
      "metadata": {
        "id": "WKj9a4BysSTC"
      }
    },
    {
      "cell_type": "code",
      "source": [
        "NUM_FEATURE = 1000\n",
        "#TEST_SZ_ARR = [0.3, 0.4, 0.5]\n",
        "TEST_SZ_ARR = [0.1, 0.2, 0.3, 0.4, 0.5, 0.6, 0.7, 0.8, 0.9]\n",
        "\n",
        "def recall_split():\n",
        "    X_train_recall_arr = []\n",
        "    X_test_recall_arr = []\n",
        "    y_train_recall_arr = []\n",
        "    y_test_recall_arr = []\n",
        "\n",
        "    for test_sz in TEST_SZ_ARR:\n",
        "        x = feature_extraction_bagofwords(emails_list, NUM_FEATURE)\n",
        "        X_train, X_test, y_train, y_test = train_test_split(x, y, test_size=test_sz, random_state=0)\n",
        "        X_train_recall_arr.append(X_train)\n",
        "        X_test_recall_arr.append(X_test)\n",
        "        y_train_recall_arr.append(y_train)\n",
        "        y_test_recall_arr.append(y_test)\n",
        "    return X_train_recall_arr, X_test_recall_arr, y_train_recall_arr, y_test_recall_arr\n",
        "\n",
        "\n",
        "X_train_recall_arr, X_test_recall_arr, y_train_recall_arr, y_test_recall_arr = recall_split()\n",
        "\n",
        "def onetest():\n",
        "    res = dict()\n",
        "    for i in range(0, len(TEST_SZ_ARR)):\n",
        "        print(\"i: \", i)\n",
        "        res_svm = detection_svm(X_train_recall_arr[i], y_train_recall_arr[i], X_test_recall_arr[i], y_test_recall_arr[i])\n",
        "        res_knn = detection_knn(X_train_recall_arr[i], y_train_recall_arr[i], X_test_recall_arr[i], y_test_recall_arr[i])\n",
        "        res_gnb = detection_gnb(X_train_recall_arr[i], y_train_recall_arr[i], X_test_recall_arr[i], y_test_recall_arr[i])\n",
        "        res_rf = detection_rf(X_train_recall_arr[i], y_train_recall_arr[i], X_test_recall_arr[i], y_test_recall_arr[i])\n",
        "        temp = [res_svm, res_knn, res_gnb, res_rf]\n",
        "        res[TEST_SZ_ARR[i]] = temp\n",
        "    return res\n",
        "\n",
        "res_recall = onetest()\n",
        "\n",
        "\n"
      ],
      "metadata": {
        "id": "7mqOX-t5eHWg"
      },
      "execution_count": null,
      "outputs": []
    },
    {
      "cell_type": "code",
      "source": [
        "import matplotlib.pyplot as plt\n",
        "\n",
        "def recall_f_plot(idx):\n",
        "    fig, ax = plt.subplots()\n",
        "    plt_x_label = TEST_SZ_ARR\n",
        "    plt_y_svm = [res_recall[i][0][idx] for i in TEST_SZ_ARR]\n",
        "    ax.plot(plt_x_label, plt_y_svm, label = \"SVM\")\n",
        "\n",
        "    plt_y_knn = [res_recall[i][1][idx] for i in TEST_SZ_ARR]\n",
        "    ax.plot(plt_x_label, plt_y_knn, label = \"KNN\")\n",
        "\n",
        "    plt_y_gnb = [res_recall[i][2][idx] for i in TEST_SZ_ARR]\n",
        "    ax.plot(plt_x_label, plt_y_gnb, label = \"GNB\")\n",
        "\n",
        "    plt_y_rf = [res_recall[i][3][idx] for i in TEST_SZ_ARR]\n",
        "    ax.plot(plt_x_label, plt_y_rf, label = \"Random Forest\")\n",
        "\n",
        "    cur_title = \"\"\n",
        "    if idx == 0:\n",
        "        cur_title = \"Time\"\n",
        "    elif idx == 1:\n",
        "        cur_title = \"Precision\"\n",
        "    elif idx == 2:\n",
        "        cur_title = \"Recall\"\n",
        "    elif idx == 3:\n",
        "        cur_title = \"F1\"\n",
        "    elif idx == 4:\n",
        "        cur_title = \"Accuracy\"\n",
        "\n",
        "    ax.set_xlabel(\"Test Size\")\n",
        "    ax.set_ylabel(cur_title)\n",
        "    ax.set_title(cur_title + \" and Test Size\")\n",
        "    ax.legend()\n",
        "\n",
        "    plt.show()\n",
        "\n",
        "for i in range(5):\n",
        "    recall_f_plot(i)\n",
        "\n"
      ],
      "metadata": {
        "id": "6OZ_5kM11ylP"
      },
      "execution_count": null,
      "outputs": []
    }
  ],
  "metadata": {
    "kernelspec": {
      "display_name": "senv3",
      "language": "python",
      "name": "senv3"
    },
    "language_info": {
      "codemirror_mode": {
        "name": "ipython",
        "version": 3
      },
      "file_extension": ".py",
      "mimetype": "text/x-python",
      "name": "python",
      "nbconvert_exporter": "python",
      "pygments_lexer": "ipython3",
      "version": "3.6.9"
    },
    "colab": {
      "provenance": []
    }
  },
  "nbformat": 4,
  "nbformat_minor": 0
}