{
 "cells": [
  {
   "cell_type": "markdown",
   "metadata": {},
   "source": [
    "token_1.py is OK for milestone1\n",
    "\n",
    "This file is still being improved..."
   ]
  },
  {
   "cell_type": "code",
   "execution_count": 1,
   "metadata": {},
   "outputs": [
    {
     "name": "stdout",
     "output_type": "stream",
     "text": [
      "WARNING:tensorflow:From /home/bdth333/.local/lib/python3.6/site-packages/tensorflow/python/compat/v2_compat.py:61: disable_resource_variables (from tensorflow.python.ops.variable_scope) is deprecated and will be removed in a future version.\n",
      "Instructions for updating:\n",
      "non-resource variables are not supported in the long term\n"
     ]
    }
   ],
   "source": [
    "import os\n",
    "import numpy as np\n",
    "from sklearn.feature_extraction.text import CountVectorizer\n",
    "from sklearn.feature_extraction.text import TfidfTransformer\n",
    "from sklearn.feature_extraction.text import TfidfVectorizer\n",
    "import tensorflow\n",
    "from tflearn.data_utils import VocabularyProcessor\n",
    "import json\n",
    "from sklearn.model_selection import train_test_split\n",
    "from sklearn import metrics\n",
    "import time\n",
    "\n",
    "enron_data_path = \"../dataset/enron\""
   ]
  },
  {
   "cell_type": "code",
   "execution_count": 2,
   "metadata": {},
   "outputs": [],
   "source": [
    "def preprocess_one_set(data_path):\n",
    "    res = []\n",
    "    for root, dirs, files in os.walk(data_path):\n",
    "        for file_name in files:\n",
    "            cur_file_path = os.path.join(root, file_name)\n",
    "            cur_txt = \"\"\n",
    "            with open(cur_file_path) as cur_f:\n",
    "                try:\n",
    "                    cur_lines = cur_f.readlines()\n",
    "                    for one_line in cur_lines:\n",
    "                        one_line = one_line.strip('\\n')\n",
    "                        one_line = one_line.strip('\\r')\n",
    "                        cur_txt += one_line\n",
    "                    res.append(cur_txt)\n",
    "                except UnicodeDecodeError:\n",
    "                    continue\n",
    "    return res\n",
    "\n",
    "def process_all_data():\n",
    "    spam_list = []\n",
    "    ham_list = []\n",
    "    NUM_SET = 1\n",
    "    for i in range(NUM_SET, NUM_SET + 1):\n",
    "        spam_path = enron_data_path + str(i) +  \"/spam/\"\n",
    "        ham_path = enron_data_path + str(i) + \"/ham/\"\n",
    "        cur_spam_list = preprocess_one_set(spam_path)\n",
    "        cur_ham_list = preprocess_one_set(ham_path)\n",
    "        spam_list += cur_spam_list\n",
    "        ham_list += cur_ham_list\n",
    "    return spam_list, ham_list"
   ]
  },
  {
   "cell_type": "code",
   "execution_count": 3,
   "metadata": {},
   "outputs": [
    {
     "name": "stdout",
     "output_type": "stream",
     "text": [
      "len of spam_list:  1487\n",
      "len of ham_list:  3672\n"
     ]
    }
   ],
   "source": [
    "spam_list, ham_list = process_all_data()\n",
    "emails_list = spam_list + ham_list\n",
    "len_spam = len(spam_list)\n",
    "len_ham = len(ham_list)\n",
    "print(\"len of spam_list: \", len_spam)\n",
    "print(\"len of ham_list: \", len_ham)\n",
    "y = [1] * len_spam + [0] * len_ham"
   ]
  },
  {
   "cell_type": "code",
   "execution_count": 4,
   "metadata": {},
   "outputs": [],
   "source": [
    "def feature_extraction_bagofwords(emails_list, num_features):\n",
    "    # currently do not consider max_features\n",
    "    tfidfv = TfidfVectorizer(\n",
    "        decode_error = \"ignore\",\n",
    "        analyzer = \"word\",\n",
    "        stop_words = \"english\",\n",
    "        smooth_idf = False,\n",
    "        max_features = num_features,# at most 2010 features for two datasets\n",
    "    )\n",
    "    x = np.array(emails_list)\n",
    "    x = tfidfv.fit_transform(x)\n",
    "    x = x.toarray()\n",
    "    # vocab_path = \"../output/vocabulary_bagofwords.txt\"\n",
    "    # print(\"output the vocabulary to \" + vocab_path + \" ......\\n\")\n",
    "    # with open(vocab_path, 'w') as f:\n",
    "    #     f.write(json.dumps(tfidfv.vocabulary_))\n",
    "    print(\"len of x: \", len(x))\n",
    "    print(\"#features: \",len(x[0]))\n",
    "    return x\n",
    "\n",
    "\n",
    "def feature_extraction_vo(emails_list):\n",
    "    vp = VocabularyProcessor(\n",
    "        max_document_length = 1000,\n",
    "        min_frequency = 1,\n",
    "        vocabulary = None,\n",
    "        tokenizer_fn = None\n",
    "    )\n",
    "    x = vp.fit_transform(emails_list)\n",
    "    x = np.array(list(x))\n",
    "    vocab_path = \"../output/vocabulary_tf.txt\"\n",
    "    # with open(vocab_path, 'w') as f:\n",
    "    #     f.write(json.dumps(vp.vocabulary_._mapping))\n",
    "    print(\"len of x: \", len(x))\n",
    "    return x"
   ]
  },
  {
   "cell_type": "markdown",
   "metadata": {},
   "source": [
    "Support Vector Machines Algorithm"
   ]
  },
  {
   "cell_type": "code",
   "execution_count": 5,
   "metadata": {},
   "outputs": [],
   "source": [
    "from sklearn import svm\n",
    "\n",
    "def detection_svm(X_train, y_train, X_test, y_test):\n",
    "    print(\"---Support Vector Machines Algorithm---\")\n",
    "    start_time = time.time()\n",
    "    svm_c = svm.SVC()\n",
    "    svm_c.fit(X_train, y_train)\n",
    "    y_pred = svm_c.predict(X_test)\n",
    "    end_time = time.time()\n",
    "\n",
    "    precision = metrics.precision_score(y_test, y_pred)\n",
    "    recall = metrics.recall_score(y_test, y_pred)\n",
    "    f1 = metrics.f1_score(y_test, y_pred)\n",
    "    accuracy = metrics.accuracy_score(y_test, y_pred)\n",
    "    t = end_time - start_time\n",
    "    res = [t, precision, recall, f1, accuracy]\n",
    "    return res"
   ]
  },
  {
   "cell_type": "markdown",
   "metadata": {},
   "source": [
    "K-nearest Neighbor Algorithm (KNN)"
   ]
  },
  {
   "cell_type": "code",
   "execution_count": 6,
   "metadata": {},
   "outputs": [],
   "source": [
    "from sklearn.neighbors import KNeighborsClassifier\n",
    "\n",
    "def detection_knn(X_train, y_train, X_test, y_test):\n",
    "    print(\"---K-nearest Neighbor Algorithm (KNN)---\")\n",
    "    start_time = time.time()\n",
    "    knnc = KNeighborsClassifier()\n",
    "    knnc.fit(X_train, y_train)\n",
    "    y_pred = knnc.predict(X_test)\n",
    "    end_time = time.time()\n",
    "\n",
    "    precision = metrics.precision_score(y_test, y_pred)\n",
    "    recall = metrics.recall_score(y_test, y_pred)\n",
    "    f1 = metrics.f1_score(y_test, y_pred)\n",
    "    accuracy = metrics.accuracy_score(y_test, y_pred)\n",
    "    t = end_time - start_time\n",
    "    res = [t, precision, recall, f1, accuracy]\n",
    "    return res"
   ]
  },
  {
   "cell_type": "markdown",
   "metadata": {},
   "source": [
    "Gaussian Naive Bayes"
   ]
  },
  {
   "cell_type": "code",
   "execution_count": 7,
   "metadata": {},
   "outputs": [],
   "source": [
    "from sklearn.naive_bayes import GaussianNB\n",
    "\n",
    "def detection_gnb(X_train, y_train, X_test, y_test):\n",
    "    print(\"---Gaussian Naive Bayes---\")\n",
    "    start_time = time.time()\n",
    "    gnb = GaussianNB()\n",
    "    gnb.fit(X_train, y_train)\n",
    "    y_pred = gnb.predict(X_test)\n",
    "    end_time = time.time()\n",
    "\n",
    "    precision = metrics.precision_score(y_test, y_pred)\n",
    "    recall = metrics.recall_score(y_test, y_pred)\n",
    "    f1 = metrics.f1_score(y_test, y_pred)\n",
    "    accuracy = metrics.accuracy_score(y_test, y_pred)\n",
    "    t = end_time - start_time\n",
    "    res = [t, precision, recall, f1, accuracy]\n",
    "    return res"
   ]
  },
  {
   "cell_type": "markdown",
   "metadata": {},
   "source": [
    "K-means Clustering (Not Correct Now)"
   ]
  },
  {
   "cell_type": "code",
   "execution_count": null,
   "metadata": {},
   "outputs": [],
   "source": []
  },
  {
   "cell_type": "markdown",
   "metadata": {},
   "source": [
    "Random Forest"
   ]
  },
  {
   "cell_type": "code",
   "execution_count": 8,
   "metadata": {},
   "outputs": [],
   "source": [
    "from sklearn.ensemble import RandomForestClassifier\n",
    "\n",
    "def detection_rf(X_train, y_train, X_test, y_test):\n",
    "    print(\"---Random Forest---\")\n",
    "    start_time = time.time()\n",
    "    rfc = RandomForestClassifier()\n",
    "    rfc.fit(X_train, y_train)\n",
    "    y_pred = rfc.predict(X_test)\n",
    "    end_time = time.time()\n",
    "\n",
    "    precision = metrics.precision_score(y_test, y_pred)\n",
    "    recall = metrics.recall_score(y_test, y_pred)\n",
    "    f1 = metrics.f1_score(y_test, y_pred)\n",
    "    accuracy = metrics.accuracy_score(y_test, y_pred)\n",
    "    t = end_time - start_time\n",
    "    res = [t, precision, recall, f1, accuracy]\n",
    "    return res"
   ]
  },
  {
   "cell_type": "markdown",
   "metadata": {},
   "source": [
    "Training and Testing"
   ]
  },
  {
   "cell_type": "markdown",
   "metadata": {},
   "source": [
    "Bag of Words"
   ]
  },
  {
   "cell_type": "code",
   "execution_count": 9,
   "metadata": {},
   "outputs": [
    {
     "name": "stdout",
     "output_type": "stream",
     "text": [
      "len of x:  5159\n",
      "#features:  1000\n",
      "len of x:  5159\n",
      "#features:  2000\n",
      "len of x:  5159\n",
      "#features:  3000\n",
      "len of x:  5159\n",
      "#features:  4000\n",
      "len of x:  5159\n",
      "#features:  5000\n",
      "len of x:  5159\n",
      "#features:  6000\n",
      "---Support Vector Machines Algorithm---\n",
      "---K-nearest Neighbor Algorithm (KNN)---\n",
      "---Gaussian Naive Bayes---\n",
      "---Random Forest---\n",
      "---Support Vector Machines Algorithm---\n",
      "---K-nearest Neighbor Algorithm (KNN)---\n",
      "---Gaussian Naive Bayes---\n",
      "---Random Forest---\n",
      "---Support Vector Machines Algorithm---\n",
      "---K-nearest Neighbor Algorithm (KNN)---\n",
      "---Gaussian Naive Bayes---\n",
      "---Random Forest---\n",
      "---Support Vector Machines Algorithm---\n",
      "---K-nearest Neighbor Algorithm (KNN)---\n",
      "---Gaussian Naive Bayes---\n",
      "---Random Forest---\n",
      "---Support Vector Machines Algorithm---\n",
      "---K-nearest Neighbor Algorithm (KNN)---\n",
      "---Gaussian Naive Bayes---\n",
      "---Random Forest---\n",
      "---Support Vector Machines Algorithm---\n",
      "---K-nearest Neighbor Algorithm (KNN)---\n",
      "---Gaussian Naive Bayes---\n",
      "---Random Forest---\n"
     ]
    }
   ],
   "source": [
    "NUM_FEATURE_ARR = [1000, 2000, 3000, 4000, 5000, 6000]\n",
    "TEST_SIZE = 0.5\n",
    "\n",
    "def bagofwords_split():\n",
    "    X_train_bagofwords_arr = []\n",
    "    X_test_bagofwords_arr = []\n",
    "    y_train_bagofwords_arr = []\n",
    "    y_test_bagofwords_arr = []\n",
    "\n",
    "    for num_feature in NUM_FEATURE_ARR:\n",
    "        x = feature_extraction_bagofwords(emails_list, num_feature)\n",
    "        X_train, X_test, y_train, y_test = train_test_split(x, y, test_size=TEST_SIZE, random_state=0)\n",
    "        X_train_bagofwords_arr.append(X_train)\n",
    "        X_test_bagofwords_arr.append(X_test)\n",
    "        y_train_bagofwords_arr.append(y_train)\n",
    "        y_test_bagofwords_arr.append(y_test)\n",
    "    return X_train_bagofwords_arr, X_test_bagofwords_arr, y_train_bagofwords_arr, y_test_bagofwords_arr\n",
    "\n",
    "X_train_bagofwords_arr, X_test_bagofwords_arr, y_train_bagofwords_arr, y_test_bagofwords_arr = bagofwords_split()\n",
    "\n",
    "def onetest():\n",
    "    res = dict()\n",
    "    for i in range(0, len(NUM_FEATURE_ARR)):\n",
    "        res_svm = detection_svm(X_train_bagofwords_arr[i], y_train_bagofwords_arr[i], X_test_bagofwords_arr[i], y_test_bagofwords_arr[i])\n",
    "        res_knn = detection_knn(X_train_bagofwords_arr[i], y_train_bagofwords_arr[i], X_test_bagofwords_arr[i], y_test_bagofwords_arr[i])\n",
    "        res_gnb = detection_gnb(X_train_bagofwords_arr[i], y_train_bagofwords_arr[i], X_test_bagofwords_arr[i], y_test_bagofwords_arr[i])\n",
    "        #res_kmeans = detection_kmeans(X_train_bagofwords_arr[i], y_train_bagofwords_arr[i], X_test_bagofwords_arr[i], y_test_bagofwords_arr[i], 2)\n",
    "        res_rf = detection_rf(X_train_bagofwords_arr[i], y_train_bagofwords_arr[i], X_test_bagofwords_arr[i], y_test_bagofwords_arr[i])\n",
    "        #temp = [res_svm, res_knn, res_gnb, res_kmeans, res_rf]\n",
    "        temp = [res_svm, res_knn, res_gnb, res_rf]\n",
    "        res[NUM_FEATURE_ARR[i]] = temp\n",
    "    return res\n",
    "\n",
    "res = onetest()"
   ]
  },
  {
   "cell_type": "code",
   "execution_count": 10,
   "metadata": {},
   "outputs": [],
   "source": [
    "import matplotlib.pyplot as plt\n",
    "#[res_svm, res_knn, res_gnb, res_kmeans, res_rf]\n",
    "#[t, precision, recall, f1, accuracy]\n",
    "def f_plot(idx):\n",
    "    fig, ax = plt.subplots()\n",
    "    plt_x_label = NUM_FEATURE_ARR\n",
    "    plt_y_svm = [res[i][0][idx] for i in NUM_FEATURE_ARR]\n",
    "    ax.plot(plt_x_label, plt_y_svm, label = \"SVM\")\n",
    "\n",
    "    plt_y_knn = [res[i][1][idx] for i in NUM_FEATURE_ARR]\n",
    "    ax.plot(plt_x_label, plt_y_knn, label = \"KNN\")\n",
    "\n",
    "    plt_y_gnb = [res[i][2][idx] for i in NUM_FEATURE_ARR]\n",
    "    ax.plot(plt_x_label, plt_y_gnb, label = \"GNB\")\n",
    "\n",
    "    # plt_y_kmeans = [res[i][3][idx] for i in NUM_FEATURE_ARR]\n",
    "    # ax.plot(plt_x_label, plt_y_kmeans, label = \"K-means\")\n",
    "\n",
    "    plt_y_rf = [res[i][3][idx] for i in NUM_FEATURE_ARR]\n",
    "    ax.plot(plt_x_label, plt_y_rf, label = \"Random Forest\")\n",
    "\n",
    "    cur_title = \"\"\n",
    "    if idx == 0:\n",
    "        cur_title = \"Time\"\n",
    "    elif idx == 1:\n",
    "        cur_title = \"Precision\"\n",
    "    elif idx == 2:\n",
    "        cur_title = \"Recall\"\n",
    "    elif idx == 3:\n",
    "        cur_title = \"F1\"\n",
    "    elif idx == 4:\n",
    "        cur_title = \"Accuracy\"\n",
    "\n",
    "    ax.set_xlabel(\"Number of Features\")\n",
    "    ax.set_ylabel(cur_title)\n",
    "    ax.set_title(cur_title + \" and Number of Features\")\n",
    "    ax.legend()\n",
    "\n",
    "    plt.show()\n"
   ]
  },
  {
   "cell_type": "code",
   "execution_count": 11,
   "metadata": {},
   "outputs": [
    {
     "data": {
      "image/png": "[encoded data removed]",
      "text/plain": [
       "<Figure size 432x288 with 1 Axes>"
      ]
     },
     "metadata": {
      "needs_background": "light"
     },
     "output_type": "display_data"
    },
    {
     "data": {
      "image/png": "[encoded data removed]",
      "text/plain": [
       "<Figure size 432x288 with 1 Axes>"
      ]
     },
     "metadata": {
      "needs_background": "light"
     },
     "output_type": "display_data"
    },
    {
     "data": {
      "image/png": "[encoded data removed]",
      "text/plain": [
       "<Figure size 432x288 with 1 Axes>"
      ]
     },
     "metadata": {
      "needs_background": "light"
     },
     "output_type": "display_data"
    },
    {
     "data": {
      "image/png": "[encoded data removed]",
      "text/plain": [
       "<Figure size 432x288 with 1 Axes>"
      ]
     },
     "metadata": {
      "needs_background": "light"
     },
     "output_type": "display_data"
    }
   ],
   "source": [
    "for i in range(4):\n",
    "    f_plot(i)"
   ]
  },
  {
   "cell_type": "markdown",
   "metadata": {},
   "source": [
    "Test for K-means"
   ]
  },
  {
   "cell_type": "code",
   "execution_count": 20,
   "metadata": {},
   "outputs": [
    {
     "name": "stdout",
     "output_type": "stream",
     "text": [
      "---K-means Clustering---\n",
      "---K-means Clustering---\n",
      "---K-means Clustering---\n",
      "---K-means Clustering---\n",
      "---K-means Clustering---\n",
      "---K-means Clustering---\n",
      "[1.4286236763000488, 2.348813056945801, 2.728935480117798, 3.6284122467041016, 4.526382684707642, 4.789444208145142]\n",
      "[0.02044859353818327, 0.016760286350428918, 0.015136915548646167, 0.014048111207901332, 0.013122856483574842, 0.013049218183302312]\n"
     ]
    }
   ],
   "source": [
    "from sklearn.cluster import KMeans\n",
    "from sklearn.metrics import silhouette_score\n",
    "\n",
    "def detection_kmeans(X_train, y_train, X_test, y_test, num_clusters):\n",
    "    print(\"---K-means Clustering---\")\n",
    "    start_time = time.time()\n",
    "\n",
    "    kmc = KMeans(n_clusters = num_clusters)\n",
    "    kmc.fit(X_train)\n",
    "    labels = kmc.labels_\n",
    "    sh = silhouette_score(X_train, labels)\n",
    "\n",
    "    #y_predict = kmc.predict(X_test)\n",
    "    end_time = time.time()\n",
    "\n",
    "    # y_processed = []\n",
    "\n",
    "    # for yi in y_predict:\n",
    "    #     if yi == 0:\n",
    "    #         y_processed.append(0)\n",
    "    #     else:\n",
    "    #         y_processed.append(1)\n",
    "\n",
    "    # precision = metrics.precision_score(y_test, y_processed)\n",
    "    # recall = metrics.recall_score(y_test, y_processed)\n",
    "    # f1 = metrics.f1_score(y_test, y_processed)\n",
    "    # accuracy = metrics.accuracy_score(y_test, y_processed)\n",
    "    t = end_time - start_time\n",
    "    res = [t, sh]\n",
    "    return res\n",
    "\n",
    "all_res = []\n",
    "for i in range(len(X_train_bagofwords_arr)):\n",
    "    res = detection_kmeans(X_train_bagofwords_arr[i], y_train_bagofwords_arr[i],\\\n",
    "                    X_test_bagofwords_arr[i], y_test_bagofwords_arr[i], 2)\n",
    "    all_res.append(res)\n",
    "\n",
    "t_arr = [all_res[i][0] for i in range(len(X_train_bagofwords_arr))]\n",
    "sh_arr = [all_res[i][1] for i in range(len(X_train_bagofwords_arr))]\n",
    "\n",
    "\n",
    "print(t_arr)\n",
    "print(sh_arr)"
   ]
  },
  {
   "cell_type": "markdown",
   "metadata": {},
   "source": [
    "VO"
   ]
  },
  {
   "cell_type": "code",
   "execution_count": 21,
   "metadata": {},
   "outputs": [
    {
     "name": "stdout",
     "output_type": "stream",
     "text": [
      "len of x:  5159\n"
     ]
    }
   ],
   "source": [
    "TEST_SIZE = 0.4\n",
    "\n",
    "x = feature_extraction_vo(emails_list)\n",
    "X_train, X_test, y_train, y_test = train_test_split(x, y, test_size=TEST_SIZE, random_state=0)"
   ]
  },
  {
   "cell_type": "code",
   "execution_count": 22,
   "metadata": {},
   "outputs": [
    {
     "name": "stdout",
     "output_type": "stream",
     "text": [
      "---Support Vector Machines Algorithm---\n",
      "---K-nearest Neighbor Algorithm (KNN)---\n",
      "---Gaussian Naive Bayes---\n",
      "---K-means Clustering---\n",
      "---Random Forest---\n"
     ]
    }
   ],
   "source": [
    "res_svm = detection_svm(X_train, y_train, X_test, y_test)\n",
    "res_knn = detection_knn(X_train, y_train, X_test, y_test)\n",
    "res_gnb = detection_gnb(X_train, y_train, X_test, y_test)\n",
    "res_rf = detection_rf(X_train, y_train, X_test, y_test)"
   ]
  },
  {
   "cell_type": "code",
   "execution_count": 23,
   "metadata": {},
   "outputs": [
    {
     "name": "stdout",
     "output_type": "stream",
     "text": [
      "[7.847689390182495, 0.8040201005025126, 0.27586206896551724, 0.41078305519897307, 0.7776162790697675]\n",
      "[0.6807286739349365, 0.5408560311284046, 0.2396551724137931, 0.3321385902031064, 0.7291666666666666]\n",
      "[0.06494617462158203, 0.4439252336448598, 0.16379310344827586, 0.23929471032745595, 0.7073643410852714]\n",
      "[1.1203649044036865, 0.7785829516758711]\n",
      "[1.5588185787200928, 0.8768115942028986, 0.41724137931034483, 0.5654205607476636, 0.8197674418604651]\n"
     ]
    }
   ],
   "source": [
    "print(res_svm)\n",
    "print(res_knn)\n",
    "print(res_gnb)\n",
    "print(res_rf)"
   ]
  },
  {
   "cell_type": "code",
   "execution_count": null,
   "metadata": {},
   "outputs": [],
   "source": [
    "res_kmeans = detection_kmeans(X_train, y_train, X_test, y_test, 2)\n",
    "print(res_kmeans)"
   ]
  }
 ],
 "metadata": {
  "kernelspec": {
   "display_name": "senv3",
   "language": "python",
   "name": "senv3"
  },
  "language_info": {
   "codemirror_mode": {
    "name": "ipython",
    "version": 3
   },
   "file_extension": ".py",
   "mimetype": "text/x-python",
   "name": "python",
   "nbconvert_exporter": "python",
   "pygments_lexer": "ipython3",
   "version": "3.6.9"
  }
 },
 "nbformat": 4,
 "nbformat_minor": 2
}
